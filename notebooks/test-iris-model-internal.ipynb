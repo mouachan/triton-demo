{
 "cells": [
  {
   "cell_type": "markdown",
   "metadata": {},
   "source": [
    "# Test du Modèle Iris avec Service Interne\n",
    "\n",
    "Ce notebook teste le modèle de classification d'iris en utilisant le service interne du cluster."
   ]
  },
  {
   "cell_type": "code",
   "execution_count": null,
   "metadata": {},
   "outputs": [],
   "source": [
    "import requests\n",
    "import json\n",
    "import numpy as np\n",
    "import time"
   ]
  },
  {
   "cell_type": "code",
   "execution_count": null,
   "metadata": {},
   "outputs": [],
   "source": [
    "# Configuration du service interne\n",
    "SERVICE_NAME = \"iris-classifier-triton-predictor\"\n",
    "NAMESPACE = \"triton-demo\"\n",
    "INTERNAL_URL = f\"http://{SERVICE_NAME}.{NAMESPACE}.svc.cluster.local:8080\"\n",
    "\n",
    "print(f\"URL interne: {INTERNAL_URL}\")\n",
    "print(f\"Service: {SERVICE_NAME}\")\n",
    "print(f\"Namespace: {NAMESPACE}\")"
   ]
  },
  {
   "cell_type": "code",
   "execution_count": null,
   "metadata": {},
   "outputs": [],
   "source": [
    "# Test de santé du service\n",
    "try:\n",
    "    health_response = requests.get(f\"{INTERNAL_URL}/v2/health/ready\", timeout=10)\n",
    "    print(f\"Health check: {health_response.status_code}\")\n",
    "    if health_response.status_code == 200:\n",
    "        print(\"✅ Service en bonne santé\")\n",
    "    else:\n",
    "        print(f\"❌ Problème de santé: {health_response.text}\")\n",
    "except Exception as e:\n",
    "    print(f\"❌ Erreur de connexion: {e}\")"
   ]
  },
  {
   "cell_type": "code",
   "execution_count": null,
   "metadata": {},
   "outputs": [],
   "source": [
    "# Test d'inférence simple\n",
    "sample = np.array([[5.1, 3.5, 1.4, 0.2]], dtype=np.float32)\n",
    "print(f\"Échantillon de test: {sample[0]}\")\n",
    "\n",
    "payload = {\n",
    "    \"inputs\": [\n",
    "        {\n",
    "            \"name\": \"float_input\",\n",
    "            \"shape\": sample.shape,\n",
    "            \"datatype\": \"FP32\",\n",
    "            \"data\": sample.tolist()\n",
    "        }\n",
    "    ]\n",
    "}\n",
    "\n",
    "print(f\"\\nPayload: {json.dumps(payload, indent=2)}\")"
   ]
  },
  {
   "cell_type": "code",
   "execution_count": null,
   "metadata": {},
   "outputs": [],
   "source": [
    "# Envoi de la requête d'inférence\n",
    "try:\n",
    "    start_time = time.time()\n",
    "    \n",
    "    response = requests.post(\n",
    "        f\"{INTERNAL_URL}/v2/models/iris_model/infer\",\n",
    "        headers={\"Content-Type\": \"application/json\"},\n",
    "        json=payload,\n",
    "        timeout=30\n",
    "    )\n",
    "    \n",
    "    end_time = time.time()\n",
    "    \n",
    "    print(f\"Status: {response.status_code}\")\n",
    "    print(f\"Temps de réponse: {end_time - start_time:.3f} secondes\")\n",
    "    \n",
    "    if response.status_code == 200:\n",
    "        result = response.json()\n",
    "        print(\"✅ Inférence réussie!\")\n",
    "        print(f\"   Modèle: {result.get('model_name')}\")\n",
    "        print(f\"   Version: {result.get('model_version')}\")\n",
    "        \n",
    "        # Affichage des résultats\n",
    "        outputs = result.get('outputs', [])\n",
    "        for output in outputs:\n",
    "            if output['name'] == 'label':\n",
    "                predicted_class = output['data'][0]\n",
    "                print(f\"   Classe prédite: {predicted_class}\")\n",
    "            elif output['name'] == 'probabilities':\n",
    "                probs = output['data'][0]\n",
    "                if isinstance(probs, list):\n",
    "                    print(f\"   Probabilités: {[f'{p:.3f}' for p in probs]}\")\n",
    "                else:\n",
    "                    print(f\"   Probabilités: {probs}\")\n",
    "        \n",
    "        print(\"\\n🎉 Test réussi ! Le modèle fonctionne parfaitement.\")\n",
    "        \n",
    "    else:\n",
    "        print(f\"❌ Erreur d'inférence: {response.text}\")\n",
    "        \n",
    "except Exception as e:\n",
    "    print(f\"❌ Erreur: {e}\")"
   ]
  }
 ],
 "metadata": {
  "kernelspec": {
   "display_name": "Python 3",
   "language": "python",
   "name": "python3"
  },
  "language_info": {
   "name": "python",
   "version": "3.8.5"
  }
 },
 "nbformat": 4,
 "nbformat_minor": 4
}
